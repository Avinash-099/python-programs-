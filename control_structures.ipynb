{
  "nbformat": 4,
  "nbformat_minor": 0,
  "metadata": {
    "colab": {
      "name": "Untitled3.ipynb",
      "provenance": [],
      "authorship_tag": "ABX9TyMJWuGrxk2nxVoTdOEsCVOC",
      "include_colab_link": true
    },
    "kernelspec": {
      "name": "python3",
      "display_name": "Python 3"
    },
    "language_info": {
      "name": "python"
    }
  },
  "cells": [
    {
      "cell_type": "markdown",
      "metadata": {
        "id": "view-in-github",
        "colab_type": "text"
      },
      "source": [
        "<a href=\"https://colab.research.google.com/github/Avinash-099/python-programs-/blob/main/control_structures.ipynb\" target=\"_parent\"><img src=\"https://colab.research.google.com/assets/colab-badge.svg\" alt=\"Open In Colab\"/></a>"
      ]
    },
    {
      "cell_type": "code",
      "execution_count": null,
      "metadata": {
        "colab": {
          "base_uri": "https://localhost:8080/"
        },
        "id": "ChsTRroBPMoF",
        "outputId": "35d64dbc-0334-418f-f60a-882378b4908e"
      },
      "outputs": [
        {
          "output_type": "stream",
          "name": "stdout",
          "text": [
            "elligible for voting \n"
          ]
        }
      ],
      "source": [
        "# control structures!! \n",
        "## find out the person is eligible for voting or not ?\n",
        "#static.\n",
        "a=19\n",
        "if a>=18:\n",
        "  print('elligible for voting ')\n",
        "else :\n",
        "  print('not elligible for voting ')\n",
        "\n",
        "\n"
      ]
    },
    {
      "cell_type": "code",
      "source": [
        "#dynamic \n",
        "age=int(a)\n",
        "a=input('enter any number')\n",
        "if age<18:\n",
        " print('not elligible for voting')\n",
        "else :\n",
        "  print('elligible')"
      ],
      "metadata": {
        "colab": {
          "base_uri": "https://localhost:8080/"
        },
        "id": "JLtsZ0iDRXMc",
        "outputId": "17ac0634-6306-4b86-9c62-708167daf6c4"
      },
      "execution_count": null,
      "outputs": [
        {
          "output_type": "stream",
          "name": "stdout",
          "text": [
            "enter any number15\n",
            "not elligible for voting \n"
          ]
        }
      ]
    },
    {
      "cell_type": "code",
      "source": [
        "## find the greatest of 3 numbers  among them ?\n",
        "a=input('enter the value of a')\n",
        "num1=int(a)\n",
        "b=input('enter the value of b')\n",
        "num2=int(b)\n",
        "c=input('enter the value of c')\n",
        "num3=int(c)\n",
        "if a>b and a>c :\n",
        "   print('a is the greatest ')\n",
        "elif b>a and b>c :\n",
        "   print('b is the greatest')\n",
        "else :\n",
        "   print('c is the greatest')"
      ],
      "metadata": {
        "colab": {
          "base_uri": "https://localhost:8080/"
        },
        "id": "TCf8GsilTDtW",
        "outputId": "0ef757b2-ae58-4c96-8ba6-4fc59adb8bd0"
      },
      "execution_count": null,
      "outputs": [
        {
          "output_type": "stream",
          "name": "stdout",
          "text": [
            "enter the value of a5\n",
            "enter the value of b2\n",
            "enter the value of c6\n",
            "c is the greatest\n"
          ]
        }
      ]
    },
    {
      "cell_type": "code",
      "source": [
        "\n",
        "#Check whether the triangle is equilateral, isosceles, or scalene triangle ?\n",
        "a=int(input('enter the value of side 1 :'))\n",
        "b=int(input('enter the value of side 2 :'))\n",
        "c=int(input('enter the value of side 3 :'))\n",
        "if a==b==c:\n",
        "  print('this is a equivalent triangle')\n",
        "elif a!=b==c or a==b!=c or a==c!=b:\n",
        "  print('this is a isoceles triangle')\n",
        "else :\n",
        "  print('this is a scalene trianle')"
      ],
      "metadata": {
        "colab": {
          "base_uri": "https://localhost:8080/"
        },
        "id": "hd0nbydTWJux",
        "outputId": "73a9eaa5-34ee-48c5-a3a2-a114e5c5a8b5"
      },
      "execution_count": null,
      "outputs": [
        {
          "output_type": "stream",
          "name": "stdout",
          "text": [
            "enter the value of side 1 :4\n",
            "enter the value of side 2 :6\n",
            "enter the value of side 3 :4\n",
            "this is a isoceles triangle\n"
          ]
        }
      ]
    },
    {
      "cell_type": "code",
      "source": [
        "#Check whether entered year is a leap year or not\n",
        "a=int(input('enter the year'))\n",
        "if a/4==0 or a/400==0 :\n",
        "  print('leap year')\n",
        "else :\n",
        "  print('non leap year')"
      ],
      "metadata": {
        "colab": {
          "base_uri": "https://localhost:8080/"
        },
        "id": "tFoKBwabYQz1",
        "outputId": "f3c6f232-d80a-440f-bf98-9ac36396f513"
      },
      "execution_count": null,
      "outputs": [
        {
          "output_type": "stream",
          "name": "stdout",
          "text": [
            "enter the year2007\n",
            "non leap year\n"
          ]
        }
      ]
    },
    {
      "cell_type": "code",
      "source": [
        "## Find minimum among three numbers ?\n",
        "a=int(input('enter the value of a'))\n",
        "b=int(input('enter the value of b'))\n",
        "c=int(input('enter the value of c'))\n",
        "if a<b<c:\n",
        "  print('a is the minimum number among them')\n",
        "elif b<a<c:\n",
        "  print('b is the minimum number among them')\n",
        "else :\n",
        "  print('c is the minimum number among them')"
      ],
      "metadata": {
        "colab": {
          "base_uri": "https://localhost:8080/"
        },
        "id": "XbS46TImZjJw",
        "outputId": "bf111653-ef9b-4891-f387-e466fd16da08"
      },
      "execution_count": null,
      "outputs": [
        {
          "output_type": "stream",
          "name": "stdout",
          "text": [
            "enter the value of a4\n",
            "enter the value of b5\n",
            "enter the value of c6\n",
            "a is the minimum number among them\n"
          ]
        }
      ]
    },
    {
      "cell_type": "code",
      "source": [
        "##Check whether a number is divisible by 5 and 11 or not ?\n",
        "number=int(input(\"enter any number\"))\n",
        "if number%5==0 and number%11==0 :\n",
        "  print('the number is divisible by 5 and 11')\n",
        "else :\n",
        "  print('the number is not  divisible by 5 and 11') \n",
        "  \n"
      ],
      "metadata": {
        "id": "Ml4gvW1sc-ZX",
        "colab": {
          "base_uri": "https://localhost:8080/"
        },
        "outputId": "ac270aa5-2b2e-4072-afae-360e1ea22011"
      },
      "execution_count": 1,
      "outputs": [
        {
          "output_type": "stream",
          "name": "stdout",
          "text": [
            "enter any number55\n",
            "the number is divisible by 5 and 11\n"
          ]
        }
      ]
    }
  ]
}