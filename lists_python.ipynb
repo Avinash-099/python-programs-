{
  "nbformat": 4,
  "nbformat_minor": 0,
  "metadata": {
    "colab": {
      "name": "Untitled4.ipynb",
      "provenance": [],
      "collapsed_sections": [],
      "authorship_tag": "ABX9TyPfxb3KsWTKJe0CT+jScq/A",
      "include_colab_link": true
    },
    "kernelspec": {
      "name": "python3",
      "display_name": "Python 3"
    },
    "language_info": {
      "name": "python"
    }
  },
  "cells": [
    {
      "cell_type": "markdown",
      "metadata": {
        "id": "view-in-github",
        "colab_type": "text"
      },
      "source": [
        "<a href=\"https://colab.research.google.com/github/Avinash-099/python-programs-/blob/main/lists_python.ipynb\" target=\"_parent\"><img src=\"https://colab.research.google.com/assets/colab-badge.svg\" alt=\"Open In Colab\"/></a>"
      ]
    },
    {
      "cell_type": "markdown",
      "source": [
        "fruit names\n"
      ],
      "metadata": {
        "id": "uwt3zKLC5Pt5"
      }
    },
    {
      "cell_type": "code",
      "source": [
        "# writing lists\n",
        "## to print the intial value \n",
        "fruit=[\"mango\",\"apple\",\"strawberry\",'orange','melon']\n",
        "print(fruit[0])\n",
        "print(fruit[-1])\n",
        "print(fruit[0:4:2])\n",
        "print(fruit[2:4])\n",
        "print(fruit[:3])\n",
        "print(fruit[3:])\n",
        "print(fruit[0:-2])\n"
      ],
      "metadata": {
        "colab": {
          "base_uri": "https://localhost:8080/"
        },
        "id": "D4ZJtb4s5SM2",
        "outputId": "00e45aa6-5f46-4b99-a03f-55fbef1b2855"
      },
      "execution_count": null,
      "outputs": [
        {
          "output_type": "stream",
          "name": "stdout",
          "text": [
            "mango\n",
            "melon\n",
            "['mango', 'strawberry']\n",
            "['strawberry', 'orange']\n",
            "['mango', 'apple', 'strawberry']\n",
            "['orange', 'melon']\n",
            "['mango', 'apple', 'strawberry']\n"
          ]
        }
      ]
    },
    {
      "cell_type": "code",
      "source": [
        "a,b,c,d= 1,2,3,4\n",
        "print(a)\n",
        "print(b)\n",
        "print(c)\n",
        "print(d)"
      ],
      "metadata": {
        "id": "Mv4FXSsRAKkd",
        "colab": {
          "base_uri": "https://localhost:8080/"
        },
        "outputId": "7e4b26f4-2339-48fc-fa37-892e8003dce6"
      },
      "execution_count": null,
      "outputs": [
        {
          "output_type": "stream",
          "name": "stdout",
          "text": [
            "1\n",
            "2\n",
            "3\n",
            "4\n"
          ]
        }
      ]
    },
    {
      "cell_type": "code",
      "source": [
        "#insert,append,remove,pop\n",
        "list=['number1','number2','number3','number4','number5']\n",
        "print(list)\n",
        "list.append('number6')\n",
        "print(list)\n",
        "list.insert(0,'number0')\n",
        "print(list)\n",
        "list.remove('number0')\n",
        "print(list)\n",
        "#list.pop(0)\n",
        "#print(list)\n",
        "list.pop()\n",
        "print(list)"
      ],
      "metadata": {
        "colab": {
          "base_uri": "https://localhost:8080/"
        },
        "id": "uQhxU0ElBUrr",
        "outputId": "656b31ce-5758-4e1a-ae2b-2da4f30f3cdc"
      },
      "execution_count": null,
      "outputs": [
        {
          "output_type": "stream",
          "name": "stdout",
          "text": [
            "['number1', 'number2', 'number3', 'number4', 'number5']\n",
            "['number1', 'number2', 'number3', 'number4', 'number5', 'number6']\n",
            "['number0', 'number1', 'number2', 'number3', 'number4', 'number5', 'number6']\n",
            "['number1', 'number2', 'number3', 'number4', 'number5', 'number6']\n",
            "['number1', 'number2', 'number3', 'number4', 'number5']\n"
          ]
        }
      ]
    },
    {
      "cell_type": "code",
      "source": [
        "# delete\n",
        "list=['number1','number2','number3','number4','number5']\n",
        "print(list)\n",
        "del list[0]\n",
        "print(list)\n",
        "del list\n",
        "print(list)"
      ],
      "metadata": {
        "id": "01iv8ubgEWlc"
      },
      "execution_count": null,
      "outputs": []
    },
    {
      "cell_type": "code",
      "source": [
        "#clear\n",
        "list=['number1','number2','number3','number4','number5']\n",
        "print(list)\n",
        "list.clear()\n",
        "print(list)"
      ],
      "metadata": {
        "id": "NtqaAaRMFwqZ",
        "colab": {
          "base_uri": "https://localhost:8080/"
        },
        "outputId": "17ebe82c-df7e-449c-a2f6-34cf310de9a9"
      },
      "execution_count": 5,
      "outputs": [
        {
          "output_type": "stream",
          "name": "stdout",
          "text": [
            "['number1', 'number2', 'number3', 'number4', 'number5']\n",
            "[]\n"
          ]
        }
      ]
    },
    {
      "cell_type": "code",
      "source": [
        "#extend \n",
        "list1=['number1','number2','number3','number4','number5']\n",
        "list2=['number6','number7','number8','number9','number10']\n",
        "list1.extend(list2)\n",
        "print(list1)"
      ],
      "metadata": {
        "colab": {
          "base_uri": "https://localhost:8080/"
        },
        "id": "VqWgefdNquTK",
        "outputId": "15280dc6-ae32-4a42-b18e-f14cc4c764e4"
      },
      "execution_count": 6,
      "outputs": [
        {
          "output_type": "stream",
          "name": "stdout",
          "text": [
            "['number1', 'number2', 'number3', 'number4', 'number5', 'number6', 'number7', 'number8', 'number9', 'number10']\n"
          ]
        }
      ]
    },
    {
      "cell_type": "code",
      "source": [
        ""
      ],
      "metadata": {
        "id": "6kvIaCrjsVYK"
      },
      "execution_count": null,
      "outputs": []
    }
  ]
}