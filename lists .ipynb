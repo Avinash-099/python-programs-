{
  "nbformat": 4,
  "nbformat_minor": 0,
  "metadata": {
    "colab": {
      "name": "Untitled4.ipynb",
      "provenance": [],
      "collapsed_sections": [],
      "authorship_tag": "ABX9TyPy8AwlOz4dldTJOlGdb0TA",
      "include_colab_link": true
    },
    "kernelspec": {
      "name": "python3",
      "display_name": "Python 3"
    },
    "language_info": {
      "name": "python"
    }
  },
  "cells": [
    {
      "cell_type": "markdown",
      "metadata": {
        "id": "view-in-github",
        "colab_type": "text"
      },
      "source": [
        "<a href=\"https://colab.research.google.com/github/Avinash-099/python-programs-/blob/main/lists%20.ipynb\" target=\"_parent\"><img src=\"https://colab.research.google.com/assets/colab-badge.svg\" alt=\"Open In Colab\"/></a>"
      ]
    },
    {
      "cell_type": "markdown",
      "source": [
        "fruit names\n"
      ],
      "metadata": {
        "id": "uwt3zKLC5Pt5"
      }
    },
    {
      "cell_type": "code",
      "source": [
        "# writing lists\n",
        "## to print the intial value \n",
        "fruit=[\"mango\",\"apple\",\"strawberry\",'orange','melon']\n",
        "print(fruit[0])\n",
        "print(fruit[-1])\n",
        "print(fruit[0:4:2])\n",
        "print(fruit[2:4])\n",
        "print(fruit[:3])\n",
        "print(fruit[3:])\n",
        "print(fruit[0:-2])\n"
      ],
      "metadata": {
        "colab": {
          "base_uri": "https://localhost:8080/"
        },
        "id": "D4ZJtb4s5SM2",
        "outputId": "00e45aa6-5f46-4b99-a03f-55fbef1b2855"
      },
      "execution_count": null,
      "outputs": [
        {
          "output_type": "stream",
          "name": "stdout",
          "text": [
            "mango\n",
            "melon\n",
            "['mango', 'strawberry']\n",
            "['strawberry', 'orange']\n",
            "['mango', 'apple', 'strawberry']\n",
            "['orange', 'melon']\n",
            "['mango', 'apple', 'strawberry']\n"
          ]
        }
      ]
    },
    {
      "cell_type": "code",
      "source": [
        "a,b,c,d= 1,2,3,4\n",
        "print(a)\n",
        "print(b)\n",
        "print(c)\n",
        "print(d)"
      ],
      "metadata": {
        "id": "Mv4FXSsRAKkd",
        "colab": {
          "base_uri": "https://localhost:8080/"
        },
        "outputId": "7e4b26f4-2339-48fc-fa37-892e8003dce6"
      },
      "execution_count": 1,
      "outputs": [
        {
          "output_type": "stream",
          "name": "stdout",
          "text": [
            "1\n",
            "2\n",
            "3\n",
            "4\n"
          ]
        }
      ]
    },
    {
      "cell_type": "code",
      "source": [
        "#insert,append,remove,pop\n",
        "list=['number1','number2','number3','number4','number5']\n",
        "print(list)\n",
        "list.append('number6')\n",
        "print(list)\n",
        "list.insert(0,'number0')\n",
        "print(list)\n",
        "list.remove('number0')\n",
        "print(list)\n",
        "#list.pop(0)\n",
        "#print(list)\n",
        "list.pop()\n",
        "print(list)"
      ],
      "metadata": {
        "colab": {
          "base_uri": "https://localhost:8080/"
        },
        "id": "uQhxU0ElBUrr",
        "outputId": "656b31ce-5758-4e1a-ae2b-2da4f30f3cdc"
      },
      "execution_count": 4,
      "outputs": [
        {
          "output_type": "stream",
          "name": "stdout",
          "text": [
            "['number1', 'number2', 'number3', 'number4', 'number5']\n",
            "['number1', 'number2', 'number3', 'number4', 'number5', 'number6']\n",
            "['number0', 'number1', 'number2', 'number3', 'number4', 'number5', 'number6']\n",
            "['number1', 'number2', 'number3', 'number4', 'number5', 'number6']\n",
            "['number1', 'number2', 'number3', 'number4', 'number5']\n"
          ]
        }
      ]
    },
    {
      "cell_type": "code",
      "source": [
        "# delete\n",
        "list=['number1','number2','number3','number4','number5']\n",
        "print(list)\n",
        "del list[0]\n",
        "print(list)\n",
        "del list\n",
        "print(list)"
      ],
      "metadata": {
        "id": "01iv8ubgEWlc"
      },
      "execution_count": 5,
      "outputs": []
    },
    {
      "cell_type": "code",
      "source": [
        "#clear\n",
        "list=['number1','number2','number3','number4','number5']\n",
        "print(list)\n",
        "list.clear()\n",
        "print(list)"
      ],
      "metadata": {
        "id": "NtqaAaRMFwqZ"
      },
      "execution_count": null,
      "outputs": []
    }
  ]
}