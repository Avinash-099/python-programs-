{
  "nbformat": 4,
  "nbformat_minor": 0,
  "metadata": {
    "colab": {
      "name": "QUIZ1.ipynb",
      "provenance": [],
      "authorship_tag": "ABX9TyMUAhgk9snTqT1oJngBnyhT",
      "include_colab_link": true
    },
    "kernelspec": {
      "name": "python3",
      "display_name": "Python 3"
    },
    "language_info": {
      "name": "python"
    }
  },
  "cells": [
    {
      "cell_type": "markdown",
      "metadata": {
        "id": "view-in-github",
        "colab_type": "text"
      },
      "source": [
        "<a href=\"https://colab.research.google.com/github/Avinash-099/python-programs-/blob/main/QUIZ1.ipynb\" target=\"_parent\"><img src=\"https://colab.research.google.com/assets/colab-badge.svg\" alt=\"Open In Colab\"/></a>"
      ]
    },
    {
      "cell_type": "code",
      "source": [
        "#swap \n",
        "a=2\n",
        "b=3\n",
        "c=a+b\n",
        "a=c-a\n",
        "b=c-b\n",
        "print(\"Result =\",a,b)"
      ],
      "metadata": {
        "id": "JV8kDspFiTa8"
      },
      "execution_count": null,
      "outputs": []
    },
    {
      "cell_type": "code",
      "source": [
        "#square root\n",
        "import math \n",
        "a=4\n",
        "sqrt=4**(0.5)\n",
        "print(sqrt)"
      ],
      "metadata": {
        "id": "BmpCa24jicAb"
      },
      "execution_count": null,
      "outputs": []
    },
    {
      "cell_type": "code",
      "source": [
        "#largest of three numbers \n",
        "a=5\n",
        "b=3\n",
        "c=2\n",
        "if a>b and b>c :\n",
        "    print(a)\n",
        "elif b>c and b>a :\n",
        "    print(b)\n",
        "else:\n",
        "    print(c)"
      ],
      "metadata": {
        "id": "d9g8RIs7iieE"
      },
      "execution_count": null,
      "outputs": []
    },
    {
      "cell_type": "code",
      "source": [
        "# add black at the 4th position in the list \n",
        "Rainbow=['Red','Orange','Yellow','Green']\n",
        "Rainbow.insert(3,'Black')\n",
        "print(Rainbow)"
      ],
      "metadata": {
        "id": "56EQXMc1iy0L"
      },
      "execution_count": null,
      "outputs": []
    },
    {
      "cell_type": "code",
      "source": [
        ""
      ],
      "metadata": {
        "id": "WtKY5oKzjN6E"
      },
      "execution_count": null,
      "outputs": []
    }
  ]
}